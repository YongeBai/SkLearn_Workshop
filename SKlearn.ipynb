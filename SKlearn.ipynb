{
  "nbformat": 4,
  "nbformat_minor": 0,
  "metadata": {
    "colab": {
      "provenance": [],
      "authorship_tag": "ABX9TyNVe1yPkv57gMjAtAMO2o0f",
      "include_colab_link": true
    },
    "kernelspec": {
      "name": "python3",
      "display_name": "Python 3"
    },
    "language_info": {
      "name": "python"
    }
  },
  "cells": [
    {
      "cell_type": "markdown",
      "metadata": {
        "id": "view-in-github",
        "colab_type": "text"
      },
      "source": [
        "<a href=\"https://colab.research.google.com/github/YongeBai/SkLearn_Workshop/blob/main/SKlearn.ipynb\" target=\"_parent\"><img src=\"https://colab.research.google.com/assets/colab-badge.svg\" alt=\"Open In Colab\"/></a>"
      ]
    },
    {
      "cell_type": "markdown",
      "source": [
        "#Imports"
      ],
      "metadata": {
        "id": "hZLA1LnHJI7r"
      }
    },
    {
      "cell_type": "code",
      "execution_count": null,
      "metadata": {
        "id": "0-vFgfTwHnJ_"
      },
      "outputs": [],
      "source": [
        "import pandas as pd\n",
        "import numpy as np"
      ]
    },
    {
      "cell_type": "markdown",
      "source": [
        "#1. Gather Data"
      ],
      "metadata": {
        "id": "0haVuewhJPfc"
      }
    },
    {
      "cell_type": "code",
      "source": [
        "#load in dataset\n",
        "url = 'https://raw.githubusercontent.com/YongeBai/SkLearn_Workshop/main/dataset.csv'\n",
        "df_raw = pd.read_csv(url)"
      ],
      "metadata": {
        "id": "MBSixb32lrYm"
      },
      "execution_count": null,
      "outputs": []
    },
    {
      "cell_type": "code",
      "source": [
        "df_raw.head()"
      ],
      "metadata": {
        "id": "og6Dv5GBpmfm",
        "colab": {
          "base_uri": "https://localhost:8080/",
          "height": 206
        },
        "outputId": "4a83d762-a905-479a-8311-bd88c83b6af5"
      },
      "execution_count": null,
      "outputs": [
        {
          "output_type": "execute_result",
          "data": {
            "text/plain": [
              "   Unnamed: 0  hospital_death  patient_id gender  height  ethnicity   age  \\\n",
              "0           0               0       25312      M   180.3  Caucasian  68.0   \n",
              "1           1               0       59342      F   160.0  Caucasian  77.0   \n",
              "2           2               0       50777      F   172.7  Caucasian  25.0   \n",
              "3           3               0       46918      F   165.1  Caucasian  81.0   \n",
              "4           4               0       34377      M   188.0  Caucasian  19.0   \n",
              "\n",
              "   weight    bmi gender.1  d1_lactate_max  d1_lactate_min  \\\n",
              "0    73.9  22.73        M             1.3             1.0   \n",
              "1    70.2  27.42        F             3.5             3.5   \n",
              "2    95.3  31.95        F             NaN             NaN   \n",
              "3    61.7  22.64        F             NaN             NaN   \n",
              "4     NaN    NaN        M             NaN             NaN   \n",
              "\n",
              "   apache_4a_hospital_death_prob  apache_4a_icu_death_prob  \n",
              "0                           0.10                      0.05  \n",
              "1                           0.47                      0.29  \n",
              "2                           0.00                      0.00  \n",
              "3                           0.04                      0.03  \n",
              "4                            NaN                       NaN  "
            ],
            "text/html": [
              "\n",
              "  <div id=\"df-99bc1fab-8cb5-435d-8d8d-09894d4acadd\">\n",
              "    <div class=\"colab-df-container\">\n",
              "      <div>\n",
              "<style scoped>\n",
              "    .dataframe tbody tr th:only-of-type {\n",
              "        vertical-align: middle;\n",
              "    }\n",
              "\n",
              "    .dataframe tbody tr th {\n",
              "        vertical-align: top;\n",
              "    }\n",
              "\n",
              "    .dataframe thead th {\n",
              "        text-align: right;\n",
              "    }\n",
              "</style>\n",
              "<table border=\"1\" class=\"dataframe\">\n",
              "  <thead>\n",
              "    <tr style=\"text-align: right;\">\n",
              "      <th></th>\n",
              "      <th>Unnamed: 0</th>\n",
              "      <th>hospital_death</th>\n",
              "      <th>patient_id</th>\n",
              "      <th>gender</th>\n",
              "      <th>height</th>\n",
              "      <th>ethnicity</th>\n",
              "      <th>age</th>\n",
              "      <th>weight</th>\n",
              "      <th>bmi</th>\n",
              "      <th>gender.1</th>\n",
              "      <th>d1_lactate_max</th>\n",
              "      <th>d1_lactate_min</th>\n",
              "      <th>apache_4a_hospital_death_prob</th>\n",
              "      <th>apache_4a_icu_death_prob</th>\n",
              "    </tr>\n",
              "  </thead>\n",
              "  <tbody>\n",
              "    <tr>\n",
              "      <th>0</th>\n",
              "      <td>0</td>\n",
              "      <td>0</td>\n",
              "      <td>25312</td>\n",
              "      <td>M</td>\n",
              "      <td>180.3</td>\n",
              "      <td>Caucasian</td>\n",
              "      <td>68.0</td>\n",
              "      <td>73.9</td>\n",
              "      <td>22.73</td>\n",
              "      <td>M</td>\n",
              "      <td>1.3</td>\n",
              "      <td>1.0</td>\n",
              "      <td>0.10</td>\n",
              "      <td>0.05</td>\n",
              "    </tr>\n",
              "    <tr>\n",
              "      <th>1</th>\n",
              "      <td>1</td>\n",
              "      <td>0</td>\n",
              "      <td>59342</td>\n",
              "      <td>F</td>\n",
              "      <td>160.0</td>\n",
              "      <td>Caucasian</td>\n",
              "      <td>77.0</td>\n",
              "      <td>70.2</td>\n",
              "      <td>27.42</td>\n",
              "      <td>F</td>\n",
              "      <td>3.5</td>\n",
              "      <td>3.5</td>\n",
              "      <td>0.47</td>\n",
              "      <td>0.29</td>\n",
              "    </tr>\n",
              "    <tr>\n",
              "      <th>2</th>\n",
              "      <td>2</td>\n",
              "      <td>0</td>\n",
              "      <td>50777</td>\n",
              "      <td>F</td>\n",
              "      <td>172.7</td>\n",
              "      <td>Caucasian</td>\n",
              "      <td>25.0</td>\n",
              "      <td>95.3</td>\n",
              "      <td>31.95</td>\n",
              "      <td>F</td>\n",
              "      <td>NaN</td>\n",
              "      <td>NaN</td>\n",
              "      <td>0.00</td>\n",
              "      <td>0.00</td>\n",
              "    </tr>\n",
              "    <tr>\n",
              "      <th>3</th>\n",
              "      <td>3</td>\n",
              "      <td>0</td>\n",
              "      <td>46918</td>\n",
              "      <td>F</td>\n",
              "      <td>165.1</td>\n",
              "      <td>Caucasian</td>\n",
              "      <td>81.0</td>\n",
              "      <td>61.7</td>\n",
              "      <td>22.64</td>\n",
              "      <td>F</td>\n",
              "      <td>NaN</td>\n",
              "      <td>NaN</td>\n",
              "      <td>0.04</td>\n",
              "      <td>0.03</td>\n",
              "    </tr>\n",
              "    <tr>\n",
              "      <th>4</th>\n",
              "      <td>4</td>\n",
              "      <td>0</td>\n",
              "      <td>34377</td>\n",
              "      <td>M</td>\n",
              "      <td>188.0</td>\n",
              "      <td>Caucasian</td>\n",
              "      <td>19.0</td>\n",
              "      <td>NaN</td>\n",
              "      <td>NaN</td>\n",
              "      <td>M</td>\n",
              "      <td>NaN</td>\n",
              "      <td>NaN</td>\n",
              "      <td>NaN</td>\n",
              "      <td>NaN</td>\n",
              "    </tr>\n",
              "  </tbody>\n",
              "</table>\n",
              "</div>\n",
              "      <button class=\"colab-df-convert\" onclick=\"convertToInteractive('df-99bc1fab-8cb5-435d-8d8d-09894d4acadd')\"\n",
              "              title=\"Convert this dataframe to an interactive table.\"\n",
              "              style=\"display:none;\">\n",
              "        \n",
              "  <svg xmlns=\"http://www.w3.org/2000/svg\" height=\"24px\"viewBox=\"0 0 24 24\"\n",
              "       width=\"24px\">\n",
              "    <path d=\"M0 0h24v24H0V0z\" fill=\"none\"/>\n",
              "    <path d=\"M18.56 5.44l.94 2.06.94-2.06 2.06-.94-2.06-.94-.94-2.06-.94 2.06-2.06.94zm-11 1L8.5 8.5l.94-2.06 2.06-.94-2.06-.94L8.5 2.5l-.94 2.06-2.06.94zm10 10l.94 2.06.94-2.06 2.06-.94-2.06-.94-.94-2.06-.94 2.06-2.06.94z\"/><path d=\"M17.41 7.96l-1.37-1.37c-.4-.4-.92-.59-1.43-.59-.52 0-1.04.2-1.43.59L10.3 9.45l-7.72 7.72c-.78.78-.78 2.05 0 2.83L4 21.41c.39.39.9.59 1.41.59.51 0 1.02-.2 1.41-.59l7.78-7.78 2.81-2.81c.8-.78.8-2.07 0-2.86zM5.41 20L4 18.59l7.72-7.72 1.47 1.35L5.41 20z\"/>\n",
              "  </svg>\n",
              "      </button>\n",
              "      \n",
              "  <style>\n",
              "    .colab-df-container {\n",
              "      display:flex;\n",
              "      flex-wrap:wrap;\n",
              "      gap: 12px;\n",
              "    }\n",
              "\n",
              "    .colab-df-convert {\n",
              "      background-color: #E8F0FE;\n",
              "      border: none;\n",
              "      border-radius: 50%;\n",
              "      cursor: pointer;\n",
              "      display: none;\n",
              "      fill: #1967D2;\n",
              "      height: 32px;\n",
              "      padding: 0 0 0 0;\n",
              "      width: 32px;\n",
              "    }\n",
              "\n",
              "    .colab-df-convert:hover {\n",
              "      background-color: #E2EBFA;\n",
              "      box-shadow: 0px 1px 2px rgba(60, 64, 67, 0.3), 0px 1px 3px 1px rgba(60, 64, 67, 0.15);\n",
              "      fill: #174EA6;\n",
              "    }\n",
              "\n",
              "    [theme=dark] .colab-df-convert {\n",
              "      background-color: #3B4455;\n",
              "      fill: #D2E3FC;\n",
              "    }\n",
              "\n",
              "    [theme=dark] .colab-df-convert:hover {\n",
              "      background-color: #434B5C;\n",
              "      box-shadow: 0px 1px 3px 1px rgba(0, 0, 0, 0.15);\n",
              "      filter: drop-shadow(0px 1px 2px rgba(0, 0, 0, 0.3));\n",
              "      fill: #FFFFFF;\n",
              "    }\n",
              "  </style>\n",
              "\n",
              "      <script>\n",
              "        const buttonEl =\n",
              "          document.querySelector('#df-99bc1fab-8cb5-435d-8d8d-09894d4acadd button.colab-df-convert');\n",
              "        buttonEl.style.display =\n",
              "          google.colab.kernel.accessAllowed ? 'block' : 'none';\n",
              "\n",
              "        async function convertToInteractive(key) {\n",
              "          const element = document.querySelector('#df-99bc1fab-8cb5-435d-8d8d-09894d4acadd');\n",
              "          const dataTable =\n",
              "            await google.colab.kernel.invokeFunction('convertToInteractive',\n",
              "                                                     [key], {});\n",
              "          if (!dataTable) return;\n",
              "\n",
              "          const docLinkHtml = 'Like what you see? Visit the ' +\n",
              "            '<a target=\"_blank\" href=https://colab.research.google.com/notebooks/data_table.ipynb>data table notebook</a>'\n",
              "            + ' to learn more about interactive tables.';\n",
              "          element.innerHTML = '';\n",
              "          dataTable['output_type'] = 'display_data';\n",
              "          await google.colab.output.renderOutput(dataTable, element);\n",
              "          const docLink = document.createElement('div');\n",
              "          docLink.innerHTML = docLinkHtml;\n",
              "          element.appendChild(docLink);\n",
              "        }\n",
              "      </script>\n",
              "    </div>\n",
              "  </div>\n",
              "  "
            ]
          },
          "metadata": {},
          "execution_count": 3
        }
      ]
    },
    {
      "cell_type": "code",
      "source": [
        "df_raw.columns"
      ],
      "metadata": {
        "id": "4WQnlWNOr-oY",
        "colab": {
          "base_uri": "https://localhost:8080/"
        },
        "outputId": "630ff5ff-1d81-498b-97d4-a5e0a0fd1d42"
      },
      "execution_count": null,
      "outputs": [
        {
          "output_type": "execute_result",
          "data": {
            "text/plain": [
              "Index(['Unnamed: 0', 'hospital_death', 'patient_id', 'gender', 'height',\n",
              "       'ethnicity', 'age', 'weight', 'bmi', 'gender.1', 'd1_lactate_max',\n",
              "       'd1_lactate_min', 'apache_4a_hospital_death_prob',\n",
              "       'apache_4a_icu_death_prob'],\n",
              "      dtype='object')"
            ]
          },
          "metadata": {},
          "execution_count": 4
        }
      ]
    },
    {
      "cell_type": "markdown",
      "source": [
        "#2. Preprocess data"
      ],
      "metadata": {
        "id": "zrfNA52mJVOs"
      }
    },
    {
      "cell_type": "code",
      "source": [
        "# remove irrelavant cols\n",
        "remove = ['Unnamed: 0', 'patient_id', 'ethnicity', 'gender.1']\n",
        "df = df_raw.drop(labels=remove, axis=1)\n"
      ],
      "metadata": {
        "id": "vZrVgm70JYhn"
      },
      "execution_count": null,
      "outputs": []
    },
    {
      "cell_type": "code",
      "source": [
        "# replaceing Female and Male with 0 and 1\n",
        "df['gender'].replace(['F','M'],[0,1],inplace=True)"
      ],
      "metadata": {
        "id": "Wiq2aylb3M3B"
      },
      "execution_count": null,
      "outputs": []
    },
    {
      "cell_type": "code",
      "source": [
        "# check if there are any missing or infinite values\n",
        "print(np.any(np.isnan(df)))\n",
        "print(np.all(np.isfinite(df)))"
      ],
      "metadata": {
        "id": "1IWFw-B10Ymv",
        "colab": {
          "base_uri": "https://localhost:8080/"
        },
        "outputId": "4bc63dfc-8f66-434f-fdcb-1809e2e52aeb"
      },
      "execution_count": null,
      "outputs": [
        {
          "output_type": "stream",
          "name": "stdout",
          "text": [
            "True\n",
            "False\n"
          ]
        }
      ]
    },
    {
      "cell_type": "code",
      "source": [
        "# replacing missing values with mean\n",
        "df = df.fillna(df.mean())\n"
      ],
      "metadata": {
        "id": "27YO5q9Dpu3b"
      },
      "execution_count": null,
      "outputs": []
    },
    {
      "cell_type": "code",
      "source": [
        "# removing rows with infinite values\n",
        "df.replace([np.inf, -np.inf], np.nan, inplace=True)\n",
        "df.dropna(inplace=True)"
      ],
      "metadata": {
        "id": "7s8kqB4S0Z97"
      },
      "execution_count": null,
      "outputs": []
    },
    {
      "cell_type": "code",
      "source": [
        "df.head()"
      ],
      "metadata": {
        "id": "MRJ4K6HHu_pH",
        "colab": {
          "base_uri": "https://localhost:8080/",
          "height": 206
        },
        "outputId": "46462e08-fff4-401a-8e4f-a3c58d51ed2b"
      },
      "execution_count": null,
      "outputs": [
        {
          "output_type": "execute_result",
          "data": {
            "text/plain": [
              "   hospital_death  gender  height   age    weight        bmi  d1_lactate_max  \\\n",
              "0               0     1.0   180.3  68.0  73.90000  22.730000        1.300000   \n",
              "1               0     0.0   160.0  77.0  70.20000  27.420000        3.500000   \n",
              "2               0     0.0   172.7  25.0  95.30000  31.950000        2.927383   \n",
              "3               0     0.0   165.1  81.0  61.70000  22.640000        2.927383   \n",
              "4               0     1.0   188.0  19.0  84.02834  29.185818        2.927383   \n",
              "\n",
              "   d1_lactate_min  apache_4a_hospital_death_prob  apache_4a_icu_death_prob  \n",
              "0        1.000000                       0.100000                  0.050000  \n",
              "1        3.500000                       0.470000                  0.290000  \n",
              "2        2.125128                       0.000000                  0.000000  \n",
              "3        2.125128                       0.040000                  0.030000  \n",
              "4        2.125128                       0.086787                  0.043955  "
            ],
            "text/html": [
              "\n",
              "  <div id=\"df-e06de27c-c11f-4f8b-b279-7a050824054f\">\n",
              "    <div class=\"colab-df-container\">\n",
              "      <div>\n",
              "<style scoped>\n",
              "    .dataframe tbody tr th:only-of-type {\n",
              "        vertical-align: middle;\n",
              "    }\n",
              "\n",
              "    .dataframe tbody tr th {\n",
              "        vertical-align: top;\n",
              "    }\n",
              "\n",
              "    .dataframe thead th {\n",
              "        text-align: right;\n",
              "    }\n",
              "</style>\n",
              "<table border=\"1\" class=\"dataframe\">\n",
              "  <thead>\n",
              "    <tr style=\"text-align: right;\">\n",
              "      <th></th>\n",
              "      <th>hospital_death</th>\n",
              "      <th>gender</th>\n",
              "      <th>height</th>\n",
              "      <th>age</th>\n",
              "      <th>weight</th>\n",
              "      <th>bmi</th>\n",
              "      <th>d1_lactate_max</th>\n",
              "      <th>d1_lactate_min</th>\n",
              "      <th>apache_4a_hospital_death_prob</th>\n",
              "      <th>apache_4a_icu_death_prob</th>\n",
              "    </tr>\n",
              "  </thead>\n",
              "  <tbody>\n",
              "    <tr>\n",
              "      <th>0</th>\n",
              "      <td>0</td>\n",
              "      <td>1.0</td>\n",
              "      <td>180.3</td>\n",
              "      <td>68.0</td>\n",
              "      <td>73.90000</td>\n",
              "      <td>22.730000</td>\n",
              "      <td>1.300000</td>\n",
              "      <td>1.000000</td>\n",
              "      <td>0.100000</td>\n",
              "      <td>0.050000</td>\n",
              "    </tr>\n",
              "    <tr>\n",
              "      <th>1</th>\n",
              "      <td>0</td>\n",
              "      <td>0.0</td>\n",
              "      <td>160.0</td>\n",
              "      <td>77.0</td>\n",
              "      <td>70.20000</td>\n",
              "      <td>27.420000</td>\n",
              "      <td>3.500000</td>\n",
              "      <td>3.500000</td>\n",
              "      <td>0.470000</td>\n",
              "      <td>0.290000</td>\n",
              "    </tr>\n",
              "    <tr>\n",
              "      <th>2</th>\n",
              "      <td>0</td>\n",
              "      <td>0.0</td>\n",
              "      <td>172.7</td>\n",
              "      <td>25.0</td>\n",
              "      <td>95.30000</td>\n",
              "      <td>31.950000</td>\n",
              "      <td>2.927383</td>\n",
              "      <td>2.125128</td>\n",
              "      <td>0.000000</td>\n",
              "      <td>0.000000</td>\n",
              "    </tr>\n",
              "    <tr>\n",
              "      <th>3</th>\n",
              "      <td>0</td>\n",
              "      <td>0.0</td>\n",
              "      <td>165.1</td>\n",
              "      <td>81.0</td>\n",
              "      <td>61.70000</td>\n",
              "      <td>22.640000</td>\n",
              "      <td>2.927383</td>\n",
              "      <td>2.125128</td>\n",
              "      <td>0.040000</td>\n",
              "      <td>0.030000</td>\n",
              "    </tr>\n",
              "    <tr>\n",
              "      <th>4</th>\n",
              "      <td>0</td>\n",
              "      <td>1.0</td>\n",
              "      <td>188.0</td>\n",
              "      <td>19.0</td>\n",
              "      <td>84.02834</td>\n",
              "      <td>29.185818</td>\n",
              "      <td>2.927383</td>\n",
              "      <td>2.125128</td>\n",
              "      <td>0.086787</td>\n",
              "      <td>0.043955</td>\n",
              "    </tr>\n",
              "  </tbody>\n",
              "</table>\n",
              "</div>\n",
              "      <button class=\"colab-df-convert\" onclick=\"convertToInteractive('df-e06de27c-c11f-4f8b-b279-7a050824054f')\"\n",
              "              title=\"Convert this dataframe to an interactive table.\"\n",
              "              style=\"display:none;\">\n",
              "        \n",
              "  <svg xmlns=\"http://www.w3.org/2000/svg\" height=\"24px\"viewBox=\"0 0 24 24\"\n",
              "       width=\"24px\">\n",
              "    <path d=\"M0 0h24v24H0V0z\" fill=\"none\"/>\n",
              "    <path d=\"M18.56 5.44l.94 2.06.94-2.06 2.06-.94-2.06-.94-.94-2.06-.94 2.06-2.06.94zm-11 1L8.5 8.5l.94-2.06 2.06-.94-2.06-.94L8.5 2.5l-.94 2.06-2.06.94zm10 10l.94 2.06.94-2.06 2.06-.94-2.06-.94-.94-2.06-.94 2.06-2.06.94z\"/><path d=\"M17.41 7.96l-1.37-1.37c-.4-.4-.92-.59-1.43-.59-.52 0-1.04.2-1.43.59L10.3 9.45l-7.72 7.72c-.78.78-.78 2.05 0 2.83L4 21.41c.39.39.9.59 1.41.59.51 0 1.02-.2 1.41-.59l7.78-7.78 2.81-2.81c.8-.78.8-2.07 0-2.86zM5.41 20L4 18.59l7.72-7.72 1.47 1.35L5.41 20z\"/>\n",
              "  </svg>\n",
              "      </button>\n",
              "      \n",
              "  <style>\n",
              "    .colab-df-container {\n",
              "      display:flex;\n",
              "      flex-wrap:wrap;\n",
              "      gap: 12px;\n",
              "    }\n",
              "\n",
              "    .colab-df-convert {\n",
              "      background-color: #E8F0FE;\n",
              "      border: none;\n",
              "      border-radius: 50%;\n",
              "      cursor: pointer;\n",
              "      display: none;\n",
              "      fill: #1967D2;\n",
              "      height: 32px;\n",
              "      padding: 0 0 0 0;\n",
              "      width: 32px;\n",
              "    }\n",
              "\n",
              "    .colab-df-convert:hover {\n",
              "      background-color: #E2EBFA;\n",
              "      box-shadow: 0px 1px 2px rgba(60, 64, 67, 0.3), 0px 1px 3px 1px rgba(60, 64, 67, 0.15);\n",
              "      fill: #174EA6;\n",
              "    }\n",
              "\n",
              "    [theme=dark] .colab-df-convert {\n",
              "      background-color: #3B4455;\n",
              "      fill: #D2E3FC;\n",
              "    }\n",
              "\n",
              "    [theme=dark] .colab-df-convert:hover {\n",
              "      background-color: #434B5C;\n",
              "      box-shadow: 0px 1px 3px 1px rgba(0, 0, 0, 0.15);\n",
              "      filter: drop-shadow(0px 1px 2px rgba(0, 0, 0, 0.3));\n",
              "      fill: #FFFFFF;\n",
              "    }\n",
              "  </style>\n",
              "\n",
              "      <script>\n",
              "        const buttonEl =\n",
              "          document.querySelector('#df-e06de27c-c11f-4f8b-b279-7a050824054f button.colab-df-convert');\n",
              "        buttonEl.style.display =\n",
              "          google.colab.kernel.accessAllowed ? 'block' : 'none';\n",
              "\n",
              "        async function convertToInteractive(key) {\n",
              "          const element = document.querySelector('#df-e06de27c-c11f-4f8b-b279-7a050824054f');\n",
              "          const dataTable =\n",
              "            await google.colab.kernel.invokeFunction('convertToInteractive',\n",
              "                                                     [key], {});\n",
              "          if (!dataTable) return;\n",
              "\n",
              "          const docLinkHtml = 'Like what you see? Visit the ' +\n",
              "            '<a target=\"_blank\" href=https://colab.research.google.com/notebooks/data_table.ipynb>data table notebook</a>'\n",
              "            + ' to learn more about interactive tables.';\n",
              "          element.innerHTML = '';\n",
              "          dataTable['output_type'] = 'display_data';\n",
              "          await google.colab.output.renderOutput(dataTable, element);\n",
              "          const docLink = document.createElement('div');\n",
              "          docLink.innerHTML = docLinkHtml;\n",
              "          element.appendChild(docLink);\n",
              "        }\n",
              "      </script>\n",
              "    </div>\n",
              "  </div>\n",
              "  "
            ]
          },
          "metadata": {},
          "execution_count": 10
        }
      ]
    },
    {
      "cell_type": "markdown",
      "source": [
        "##2.1 Splitting and Scaling Data"
      ],
      "metadata": {
        "id": "ripJA0a8JleT"
      }
    },
    {
      "cell_type": "code",
      "source": [
        "from sklearn.model_selection import train_test_split\n",
        "from sklearn.preprocessing import StandardScaler"
      ],
      "metadata": {
        "id": "3yjKCa9zJlyk"
      },
      "execution_count": null,
      "outputs": []
    },
    {
      "cell_type": "code",
      "source": [
        "# X are features model with consider, y is the output\n",
        "X = df.drop(columns=['hospital_death'], inplace = False)\n",
        "y = df['hospital_death']\n"
      ],
      "metadata": {
        "id": "N3QxxAoGuQcb"
      },
      "execution_count": null,
      "outputs": []
    },
    {
      "cell_type": "code",
      "source": [
        "# Splitting data\n",
        "X_train, X_test, y_train, y_test = train_test_split(X,y)"
      ],
      "metadata": {
        "id": "meMimbiIuQfk"
      },
      "execution_count": null,
      "outputs": []
    },
    {
      "cell_type": "code",
      "source": [
        "print(\"The size of X train is %.2f\"% (X_train.size/X.size))\n",
        "print(\"The size of X Test is %.2f\"%(X_test.size/X.size))"
      ],
      "metadata": {
        "id": "7rLNLPcQ3SEN",
        "colab": {
          "base_uri": "https://localhost:8080/"
        },
        "outputId": "ac1b630c-f83c-47b5-89ba-9c62fae235cd"
      },
      "execution_count": null,
      "outputs": [
        {
          "output_type": "stream",
          "name": "stdout",
          "text": [
            "The size of X train is 0.75\n",
            "The size of X Test is 0.25\n"
          ]
        }
      ]
    },
    {
      "cell_type": "code",
      "source": [
        "# Scaling\n",
        "scaler = StandardScaler()\n",
        "X_train = scaler.fit_transform(X_train)\n",
        "X_test = scaler.transform(X_test)"
      ],
      "metadata": {
        "id": "N6l5p9RquQsk"
      },
      "execution_count": null,
      "outputs": []
    },
    {
      "cell_type": "code",
      "source": [
        "# Unbalanced dataset. Keep this in mind\n",
        "f\"total deaths = {y.sum(0)}, total survived = {X.shape[0]-y.sum(0)}\""
      ],
      "metadata": {
        "id": "TIccuRv-yzkv",
        "colab": {
          "base_uri": "https://localhost:8080/",
          "height": 35
        },
        "outputId": "ee688131-6d12-401a-cdbf-2317728c082c"
      },
      "execution_count": null,
      "outputs": [
        {
          "output_type": "execute_result",
          "data": {
            "text/plain": [
              "'total deaths = 7915, total survived = 83798'"
            ],
            "application/vnd.google.colaboratory.intrinsic+json": {
              "type": "string"
            }
          },
          "metadata": {},
          "execution_count": 35
        }
      ]
    },
    {
      "cell_type": "markdown",
      "source": [
        "#3. Model Selection"
      ],
      "metadata": {
        "id": "1QrF3AR7JmBN"
      }
    },
    {
      "cell_type": "code",
      "source": [
        "from sklearn.linear_model import LogisticRegression\n",
        "\n",
        "logreg = LogisticRegression()"
      ],
      "metadata": {
        "id": "mNX7QIvRJmJT"
      },
      "execution_count": null,
      "outputs": []
    },
    {
      "cell_type": "markdown",
      "source": [
        "#4. Training"
      ],
      "metadata": {
        "id": "t-0XD-Z0JmOr"
      }
    },
    {
      "cell_type": "code",
      "source": [
        "# training model\n",
        "logreg.fit(X_train, y_train)"
      ],
      "metadata": {
        "id": "DwYkxcbmJmVJ",
        "colab": {
          "base_uri": "https://localhost:8080/"
        },
        "outputId": "e3c02083-ce49-49e9-872b-b4e097570911"
      },
      "execution_count": null,
      "outputs": [
        {
          "output_type": "execute_result",
          "data": {
            "text/plain": [
              "LogisticRegression()"
            ]
          },
          "metadata": {},
          "execution_count": 18
        }
      ]
    },
    {
      "cell_type": "markdown",
      "source": [
        "#5. Evaluation"
      ],
      "metadata": {
        "id": "9OYQkkIfKDH3"
      }
    },
    {
      "cell_type": "code",
      "source": [
        "# Lets see how our well our model preforms on testing data\n",
        "logreg.score(X_test, y_test)"
      ],
      "metadata": {
        "id": "dMjzrobl006J",
        "colab": {
          "base_uri": "https://localhost:8080/"
        },
        "outputId": "16a56bbd-b981-4611-e06a-a77afde13613"
      },
      "execution_count": null,
      "outputs": [
        {
          "output_type": "execute_result",
          "data": {
            "text/plain": [
              "0.9233285359152166"
            ]
          },
          "metadata": {},
          "execution_count": 19
        }
      ]
    },
    {
      "cell_type": "code",
      "source": [
        "# accuracy if model just guessed that nobody died\n",
        "null_acc = max(y_test.mean(), 1-y_test.mean())\n",
        "print(null_acc)"
      ],
      "metadata": {
        "id": "amITM3gK0zSa",
        "colab": {
          "base_uri": "https://localhost:8080/"
        },
        "outputId": "ffd7cfb7-775d-4476-f714-d49fb466f62e"
      },
      "execution_count": null,
      "outputs": [
        {
          "output_type": "stream",
          "name": "stdout",
          "text": [
            "0.9117711195429369\n"
          ]
        }
      ]
    },
    {
      "cell_type": "markdown",
      "source": [
        "##5.1 Choosing Evaluation metric\n",
        "\n",
        "![image.png](data:image/png;base64,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)\n",
        "\n",
        "![image.png](data:image/png;base64,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)"
      ],
      "metadata": {
        "id": "Zdj1VZrP2WOT"
      }
    },
    {
      "cell_type": "code",
      "source": [
        "from sklearn.metrics import classification_report, confusion_matrix\n",
        "from sklearn.metrics import balanced_accuracy_score"
      ],
      "metadata": {
        "id": "W3fwM0Wn0zVG"
      },
      "execution_count": null,
      "outputs": []
    },
    {
      "cell_type": "code",
      "source": [
        "y_pred = logreg.predict(X_test)"
      ],
      "metadata": {
        "id": "85ytB4XI2uFo"
      },
      "execution_count": null,
      "outputs": []
    },
    {
      "cell_type": "code",
      "source": [
        "print(classification_report(y_test, y_pred))\n",
        "print(confusion_matrix(y_test, y_pred), '\\n')"
      ],
      "metadata": {
        "id": "X2hZnH5t0zXj",
        "colab": {
          "base_uri": "https://localhost:8080/"
        },
        "outputId": "a8e4baf3-15a7-498b-86b7-80257ab00385"
      },
      "execution_count": null,
      "outputs": [
        {
          "output_type": "stream",
          "name": "stdout",
          "text": [
            "              precision    recall  f1-score   support\n",
            "\n",
            "           0       0.93      0.99      0.96     20906\n",
            "           1       0.71      0.22      0.34      2023\n",
            "\n",
            "    accuracy                           0.92     22929\n",
            "   macro avg       0.82      0.61      0.65     22929\n",
            "weighted avg       0.91      0.92      0.90     22929\n",
            "\n",
            "[[20725   181]\n",
            " [ 1577   446]] \n",
            "\n"
          ]
        }
      ]
    },
    {
      "cell_type": "code",
      "source": [
        "# since we have such an unbalanced dataset, accuracy isnt the best metric\n",
        "default_score = balanced_accuracy_score(y_test, y_pred)\n",
        "print(default_score)"
      ],
      "metadata": {
        "id": "adzfacPi0zZy",
        "colab": {
          "base_uri": "https://localhost:8080/"
        },
        "outputId": "eb831488-0f14-47fe-843f-1c46f3a8ad69"
      },
      "execution_count": null,
      "outputs": [
        {
          "output_type": "stream",
          "name": "stdout",
          "text": [
            "0.6059034274313774\n"
          ]
        }
      ]
    },
    {
      "cell_type": "markdown",
      "source": [
        "#6. Parameter Tuning (Randomized Search)"
      ],
      "metadata": {
        "id": "japScg0SKDRW"
      }
    },
    {
      "cell_type": "code",
      "source": [
        "from sklearn.model_selection import RandomizedSearchCV\n",
        "from time import perf_counter"
      ],
      "metadata": {
        "id": "Rzv_uCLMKDUu"
      },
      "execution_count": null,
      "outputs": []
    },
    {
      "cell_type": "code",
      "source": [
        "params = dict(\n",
        "    C = [0.1,0.5, 1.5, 2], # inverse of regularization\n",
        "    class_weight = [{0:1, 1:x} for x in range(1,5)], # how much focus should each class have\n",
        "    max_iter = [100, 500, 1000, 1500] # num iteration\n",
        ")"
      ],
      "metadata": {
        "id": "oSMCDHSE7bQF"
      },
      "execution_count": null,
      "outputs": []
    },
    {
      "cell_type": "code",
      "source": [
        "#finding out how long 1 iter of rand takes\n",
        "rand = RandomizedSearchCV(\n",
        "    logreg, \n",
        "    params, \n",
        "    n_iter=1,\n",
        "    scoring = 'balanced_accuracy',\n",
        ")\n",
        "\n",
        "time_start = perf_counter()\n",
        "rand.fit(X_train, y_train)\n",
        "time_stop = perf_counter()\n",
        " \n",
        "print(\"Each iteration takes:\", time_stop - time_start, \"seconds\")"
      ],
      "metadata": {
        "id": "UF39nb0u7bSw",
        "colab": {
          "base_uri": "https://localhost:8080/"
        },
        "outputId": "a65c6985-8b91-49f2-dfc4-1185690b6972"
      },
      "execution_count": null,
      "outputs": [
        {
          "output_type": "stream",
          "name": "stdout",
          "text": [
            "Each iteration takes: 3.080356781000006 seconds\n"
          ]
        }
      ]
    },
    {
      "cell_type": "code",
      "source": [
        "rand = RandomizedSearchCV(\n",
        "    logreg, \n",
        "    params, \n",
        "    n_iter=30,\n",
        "    scoring = 'balanced_accuracy',\n",
        ")\n",
        "\n",
        "rand.fit(X_train, y_train)"
      ],
      "metadata": {
        "id": "5gx90ztF7bVO",
        "colab": {
          "base_uri": "https://localhost:8080/"
        },
        "outputId": "31149590-f80b-4006-a6d7-ab0cd8f5c961"
      },
      "execution_count": null,
      "outputs": [
        {
          "output_type": "execute_result",
          "data": {
            "text/plain": [
              "RandomizedSearchCV(estimator=LogisticRegression(), n_iter=30,\n",
              "                   param_distributions={'C': [0.1, 0.5, 1.5, 2],\n",
              "                                        'class_weight': [{0: 1, 1: 1},\n",
              "                                                         {0: 1, 1: 2},\n",
              "                                                         {0: 1, 1: 3},\n",
              "                                                         {0: 1, 1: 4}],\n",
              "                                        'max_iter': [100, 500, 1000, 1500]},\n",
              "                   scoring='balanced_accuracy')"
            ]
          },
          "metadata": {},
          "execution_count": 28
        }
      ]
    },
    {
      "cell_type": "code",
      "source": [
        "rand.best_params_"
      ],
      "metadata": {
        "id": "nhrpSBW9_OM7",
        "colab": {
          "base_uri": "https://localhost:8080/"
        },
        "outputId": "6f4d7fd7-8d8b-4fda-e69b-79ccffae10f3"
      },
      "execution_count": null,
      "outputs": [
        {
          "output_type": "execute_result",
          "data": {
            "text/plain": [
              "{'max_iter': 1000, 'class_weight': {0: 1, 1: 4}, 'C': 2}"
            ]
          },
          "metadata": {},
          "execution_count": 29
        }
      ]
    },
    {
      "cell_type": "markdown",
      "source": [
        "#7. Prediction"
      ],
      "metadata": {
        "id": "vH6IcJJyKDYn"
      }
    },
    {
      "cell_type": "code",
      "source": [
        "logreg = LogisticRegression(max_iter=1500, class_weight={0: 1, 1: 4}, C=2)"
      ],
      "metadata": {
        "id": "qKo3UKqqKDcL"
      },
      "execution_count": null,
      "outputs": []
    },
    {
      "cell_type": "code",
      "source": [
        "# fit new model\n",
        "logreg.fit(X_train, y_train)"
      ],
      "metadata": {
        "id": "4PjqK5hWAMkd",
        "colab": {
          "base_uri": "https://localhost:8080/"
        },
        "outputId": "8fe3b854-165f-476e-b378-88451c79d44c"
      },
      "execution_count": null,
      "outputs": [
        {
          "output_type": "execute_result",
          "data": {
            "text/plain": [
              "LogisticRegression(C=2, class_weight={0: 1, 1: 4}, max_iter=1500)"
            ]
          },
          "metadata": {},
          "execution_count": 31
        }
      ]
    },
    {
      "cell_type": "code",
      "source": [
        "# predict\n",
        "y_pred = logreg.predict(X_test)"
      ],
      "metadata": {
        "id": "hz8McxvuAXDm"
      },
      "execution_count": null,
      "outputs": []
    },
    {
      "cell_type": "code",
      "source": [
        "new_score = balanced_accuracy_score(y_test, y_pred)"
      ],
      "metadata": {
        "id": "FALm0idBAV1y"
      },
      "execution_count": null,
      "outputs": []
    },
    {
      "cell_type": "code",
      "source": [
        "# compare\n",
        "\n",
        "print(\"Before: \", default_score)\n",
        "print(\"After: \", new_score)"
      ],
      "metadata": {
        "id": "RPEQDueBmacR",
        "colab": {
          "base_uri": "https://localhost:8080/"
        },
        "outputId": "0c0f0c5f-af0f-4c77-f5a9-a0892d049c60"
      },
      "execution_count": null,
      "outputs": [
        {
          "output_type": "stream",
          "name": "stdout",
          "text": [
            "Before:  0.6059034274313774\n",
            "After:  0.6926650677828714\n"
          ]
        }
      ]
    },
    {
      "cell_type": "markdown",
      "source": [
        "# Now you can predict if someone will die :)"
      ],
      "metadata": {
        "id": "dig_YtsmAd0d"
      }
    }
  ]
}